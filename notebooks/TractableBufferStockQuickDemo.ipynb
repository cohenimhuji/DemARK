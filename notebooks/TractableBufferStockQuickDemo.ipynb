{
 "cells": [
  {
   "cell_type": "markdown",
   "metadata": {},
   "source": [
    "# The Tractable Buffer Stock Model"
   ]
  },
  {
   "cell_type": "code",
   "execution_count": 1,
   "metadata": {
    "code_folding": [
     0
    ]
   },
   "outputs": [],
   "source": [
    "# This cell has just a bit of initial setup. You can click the arrow to expand it.\n",
    "%matplotlib inline\n",
    "import matplotlib.pyplot as plt\n",
    "\n",
    "import sys \n",
    "import os\n",
    "sys.path.insert(0, os.path.abspath('../lib'))\n",
    "\n",
    "import numpy as np\n",
    "import HARK \n",
    "from time import clock\n",
    "from copy import deepcopy\n",
    "mystr = lambda number : \"{:.3f}\".format(number)\n",
    "\n",
    "from ipywidgets import interact, interactive, fixed, interact_manual\n",
    "import ipywidgets as widgets\n",
    "\n",
    "from HARK.utilities import plotFuncs\n",
    "from HARK.ConsumptionSaving.TractableBufferStockModel import TractableConsumerType"
   ]
  },
  {
   "cell_type": "markdown",
   "metadata": {},
   "source": [
    "The [TractableBufferStock](http://www.econ2.jhu.edu/people/ccarroll/public/LectureNotes/Consumption/TractableBufferStock/) model is a (relatively) simple framework that captures all of the qualitative, and many of the quantitative features of optimal consumption in the presence of labor income uncertainty.  \n",
    "\n",
    "The key assumption behind the model's tractability is that there is only a single, stark form of uncertainty.  So long as an employed consumer remains employed, his labor income will rise at a constant rate.  But between any period and the next there is constant hazard $p$ of transitioning to the \"unemployed\" state. Unemployment is irreversible, like retirement or disability.  When unemployed, the consumer receives a fixed amount of income (for simplicity, zero).\n",
    "\n",
    "\\begin{eqnarray*}\n",
    "\\mathbb{E}_{t}[V_{t+1}^{\\bullet}(M_{t+1})] & = & (1-p)V_{t+1}^{e}(M_{t+1})+p V_{t+1}^{u}(M_{t+1})\n",
    "\\end{eqnarray*}\n",
    "\n",
    "A consumer with CRRA utility $U(C) = \\frac{C^{1-\\rho}}{1-\\rho}$ solves an optimization problem that looks standard (where $P$ is Permanent income and $\\Gamma$ is the income growth factor):\n",
    "\n",
    "\\begin{eqnarray*}\n",
    "V_t(M_t) &=& \\max_{C_t} ~ U(C_t) + \\beta \\mathbb{E}[V_{t+1}^{\\bullet}], \\\\\n",
    "M_{t+1} &=& R A_t + \\mathbb{1}(P_{t+1}), \\\\\n",
    "P_{t+1} &=& \\Gamma_{t+1} P_t,\n",
    "\\end{eqnarray*}\n",
    "\n",
    "where $\\mathbb{1}$ is an indicator of whether the consumer is employed in the next period.\n",
    "\n",
    "Under plausible parameter values the model has a target level of $m = M/P$ (market resources to permanent income) with an analytical solution that exhibits plausible relationships among all of the parameters.  (See the linked handout for details)."
   ]
  },
  {
   "cell_type": "code",
   "execution_count": 2,
   "metadata": {
    "code_folding": []
   },
   "outputs": [],
   "source": [
    "# Define a parameter dictionary and representation of the agents for the tractable buffer stock model\n",
    "TBS_dictionary =  {'UnempPrb' : .00625,    # Probability of becoming unemployed\n",
    "                   'DiscFac' : 0.975,      # Intertemporal discount factor\n",
    "                   'Rfree' : 1.01,         # Risk-free interest factor on assets\n",
    "                   'PermGroFac' : 1.0025,  # Permanent income growth factor (uncompensated)\n",
    "                   'CRRA' : 1.5}           # Coefficient of relative risk aversion\n",
    "MyTBStype = TractableConsumerType(**TBS_dictionary)"
   ]
  },
  {
   "cell_type": "markdown",
   "metadata": {},
   "source": [
    "## Target Wealth\n",
    "\n",
    "Whether the model exhibits a \"target\" or \"stable\" level of wealth for employed consumers depends on whether the 'Growth Impatience Condition' (the GIC) holds:\n",
    "\n",
    "\\begin{equation}\\label{eq:GIC}\n",
    " \\left(\\frac{(R \\beta (1-\\mho))^{1/\\rho}}{\\Gamma}\\right)  <  1\n",
    "\\end{equation}\n"
   ]
  },
  {
   "cell_type": "markdown",
   "metadata": {},
   "source": [
    "### IMPORTENT: To activate: jupyter-js-widgets/extension in the nbextensions"
   ]
  },
  {
   "cell_type": "code",
   "execution_count": 3,
   "metadata": {
    "code_folding": [],
    "scrolled": false
   },
   "outputs": [
    {
     "ename": "NameError",
     "evalue": "name 'makeTBSplot' is not defined",
     "output_type": "error",
     "traceback": [
      "\u001b[1;31m---------------------------------------------------------------------------\u001b[0m",
      "\u001b[1;31mNameError\u001b[0m                                 Traceback (most recent call last)",
      "\u001b[1;32m<ipython-input-3-567c68150326>\u001b[0m in \u001b[0;36m<module>\u001b[1;34m\u001b[0m\n\u001b[0;32m      2\u001b[0m \u001b[1;33m\u001b[0m\u001b[0m\n\u001b[0;32m      3\u001b[0m \u001b[1;31m# To make some of the widgets not appear, replace X_widget with fixed(desired_fixed_value) in the arguments below.\u001b[0m\u001b[1;33m\u001b[0m\u001b[1;33m\u001b[0m\u001b[1;33m\u001b[0m\u001b[0m\n\u001b[1;32m----> 4\u001b[1;33m interact(makeTBSplot,\n\u001b[0m\u001b[0;32m      5\u001b[0m          \u001b[0mDiscFac\u001b[0m \u001b[1;33m=\u001b[0m \u001b[0mDiscFac_widget\u001b[0m\u001b[1;33m,\u001b[0m\u001b[1;33m\u001b[0m\u001b[1;33m\u001b[0m\u001b[0m\n\u001b[0;32m      6\u001b[0m \u001b[1;31m#         CRRA = CRRA_widget,\u001b[0m\u001b[1;33m\u001b[0m\u001b[1;33m\u001b[0m\u001b[1;33m\u001b[0m\u001b[0m\n",
      "\u001b[1;31mNameError\u001b[0m: name 'makeTBSplot' is not defined"
     ]
    }
   ],
   "source": [
    "# Make an interactive plot of the tractable buffer stock solution\n",
    "\n",
    "# To make some of the widgets not appear, replace X_widget with fixed(desired_fixed_value) in the arguments below.\n",
    "interact(makeTBSplot,\n",
    "         DiscFac = DiscFac_widget,\n",
    "#         CRRA = CRRA_widget,\n",
    "         CRRA = fixed(2.5),\n",
    "         Rfree = Rfree_widget,\n",
    "         PermGroFac = PermGroFac_widget,\n",
    "         UnempPrb = UnempPrb_widget,\n",
    "         mMin = mMin_widget,\n",
    "         mMax = mMax_widget,\n",
    "         cMin = cMin_widget,\n",
    "         cMax = cMax_widget,\n",
    "         show_targ = show_targ_widget,\n",
    "         plot_emp = plot_emp_widget,\n",
    "         plot_ret = plot_ret_widget,\n",
    "         plot_mSS = plot_mSS_widget,\n",
    "        );\n"
   ]
  }
 ],
 "metadata": {
  "jupytext": {
   "cell_metadata_filter": "collapsed",
   "formats": "ipynb,py:percent"
  },
  "kernel_info": {
   "name": "python3"
  },
  "kernelspec": {
   "display_name": "Python 3",
   "language": "python",
   "name": "python3"
  },
  "language_info": {
   "codemirror_mode": {
    "name": "ipython",
    "version": 3
   },
   "file_extension": ".py",
   "mimetype": "text/x-python",
   "name": "python",
   "nbconvert_exporter": "python",
   "pygments_lexer": "ipython3",
   "version": "3.7.3"
  },
  "latex_envs": {
   "LaTeX_envs_menu_present": true,
   "autoclose": false,
   "autocomplete": true,
   "bibliofile": "biblio.bib",
   "cite_by": "apalike",
   "current_citInitial": 1,
   "eqLabelWithNumbers": true,
   "eqNumInitial": 1,
   "hotkeys": {
    "equation": "Ctrl-E",
    "itemize": "Ctrl-I"
   },
   "labels_anchors": false,
   "latex_user_defs": false,
   "report_style_numbering": false,
   "user_envs_cfg": false
  },
  "nteract": {
   "version": "0.14.4"
  }
 },
 "nbformat": 4,
 "nbformat_minor": 2
}
